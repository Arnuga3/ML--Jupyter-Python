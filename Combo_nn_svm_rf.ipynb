{
 "cells": [
  {
   "cell_type": "markdown",
   "metadata": {},
   "source": [
    "<h1>Handwritten digits classification (MNIST dataset)</h1>\n",
    "<h2> Neural Network (NN), Support Vector Machines (SVM), Random Forest (RM)</h2>"
   ]
  },
  {
   "cell_type": "markdown",
   "metadata": {},
   "source": [
    "<b>Loading libraries</b>"
   ]
  },
  {
   "cell_type": "code",
   "execution_count": 54,
   "metadata": {
    "collapsed": true
   },
   "outputs": [],
   "source": [
    "from sklearn.datasets import fetch_mldata\n",
    "from sklearn.model_selection import train_test_split\n",
    "from sklearn.neural_network import MLPClassifier\n",
    "from sklearn.svm import SVC\n",
    "from sklearn.ensemble import RandomForestClassifier\n",
    "from sklearn.preprocessing import StandardScaler\n",
    "from sklearn.model_selection import GridSearchCV\n",
    "from sklearn.metrics import classification_report, confusion_matrix, accuracy_score\n",
    "import numpy as np\n",
    "import random\n",
    "from matplotlib import pyplot as plt\n",
    "from sklearn.externals import joblib"
   ]
  },
  {
   "cell_type": "markdown",
   "metadata": {
    "collapsed": true
   },
   "source": [
    "<b>Loading MNIST dataset and print its size (60000 trainig + 10000 testing data)</b>"
   ]
  },
  {
   "cell_type": "code",
   "execution_count": 55,
   "metadata": {},
   "outputs": [
    {
     "name": "stdout",
     "output_type": "stream",
     "text": [
      "MNIST dataset size: 70000\n"
     ]
    }
   ],
   "source": [
    "mnist = fetch_mldata('MNIST original')\n",
    "print ('MNIST dataset size: %s' % len(mnist.data))"
   ]
  },
  {
   "cell_type": "markdown",
   "metadata": {},
   "source": [
    "<b>Print some sample images from dataset</b>"
   ]
  },
  {
   "cell_type": "code",
   "execution_count": 56,
   "metadata": {},
   "outputs": [
    {
     "data": {
      "image/png": "[encoded data removed]",
      "text/plain": [
       "<matplotlib.figure.Figure at 0x11408978>"
      ]
     },
     "metadata": {},
     "output_type": "display_data"
    }
   ],
   "source": [
    "images = mnist.data\n",
    "labels = mnist.target\n",
    "random_idx = np.random.choice(images.shape[0], 5)\n",
    "images_and_labels = list(zip(images[random_idx], labels[random_idx]))\n",
    "\n",
    "img = plt.figure(1, figsize=(7, 7), dpi=120)\n",
    "for index, (image, label) in enumerate(images_and_labels):\n",
    "    plt.subplot(1, 5, index + 1)\n",
    "    plt.axis('off')\n",
    "    plt.imshow(image.reshape(28,28), cmap=plt.cm.gray_r, interpolation='nearest')\n",
    "    plt.title('label: %s' % int(label), fontsize = 7)\n",
    "plt.show()"
   ]
  },
  {
   "cell_type": "markdown",
   "metadata": {},
   "source": [
    "<b>Getting data and corresponding labels from MNIST</b>"
   ]
  },
  {
   "cell_type": "code",
   "execution_count": 57,
   "metadata": {
    "collapsed": true
   },
   "outputs": [],
   "source": [
    "X = mnist.data/255.0\n",
    "y = mnist.target"
   ]
  },
  {
   "cell_type": "markdown",
   "metadata": {},
   "source": [
    "<b>Split data and labels into training and testing sets by using the 'train_test_split' function and passing the test_size parameter (80% - training, 20% - testing)</b>"
   ]
  },
  {
   "cell_type": "code",
   "execution_count": 58,
   "metadata": {},
   "outputs": [
    {
     "name": "stdout",
     "output_type": "stream",
     "text": [
      "Training data size: 56000 - Trainig labels size: 56000\n",
      "Testing data size: 14000 - Testing labels: 14000\n"
     ]
    }
   ],
   "source": [
    "X_train, X_test, y_train, y_test = train_test_split(X, y, test_size = 0.2, random_state = 0)\n",
    "\n",
    "# Copy X_train to use for visualisation (not scaled)\n",
    "X_test_v = X_test\n",
    "\n",
    "print ('Training data size: %s - Trainig labels size: %s' % (len(X_train), len(y_train)))\n",
    "print ('Testing data size: %s - Testing labels: %s' %  (len(X_test), len(y_test)))"
   ]
  },
  {
   "cell_type": "markdown",
   "metadata": {},
   "source": [
    "In order to standardise feature vectors I used a StandardScaler(), that scales the data to have a mean of 0 and variance of 1. That helped to avoid domination of feature vectors in greater ranges those in smaller ranges, and make a computation faster and more accurate. "
   ]
  },
  {
   "cell_type": "code",
   "execution_count": 59,
   "metadata": {
    "collapsed": true
   },
   "outputs": [],
   "source": [
    "scaler = StandardScaler()\n",
    "scaler.fit(X_train)  \n",
    "X_train = scaler.transform(X_train)\n",
    "X_test = scaler.transform(X_test)"
   ]
  },
  {
   "cell_type": "markdown",
   "metadata": {},
   "source": [
    "The cruicial task was to decide on how many hidden layers and a number of neurons in them need to be used for the NN. A research on NN implementation showed, that there are no specific formulas and it really depends on different factors like the dataset used, training algorithm, and etc.. However, there are chances of underfitting or overfitting of the NN, that may lead to bad results in classification. <br>\n",
    "To find the best number of hidden neurons, a GridSearchCV was used."
   ]
  },
  {
   "cell_type": "markdown",
   "metadata": {},
   "source": [
    "<b>Define classifiers</b>"
   ]
  },
  {
   "cell_type": "code",
   "execution_count": 60,
   "metadata": {},
   "outputs": [
    {
     "name": "stdout",
     "output_type": "stream",
     "text": [
      "NN classifier: \n",
      " MLPClassifier(activation='logistic', alpha=0.0001, batch_size='auto',\n",
      "       beta_1=0.9, beta_2=0.999, early_stopping=False, epsilon=1e-08,\n",
      "       hidden_layer_sizes=(100,), learning_rate='constant',\n",
      "       learning_rate_init=0.001, max_iter=200, momentum=0.9,\n",
      "       nesterovs_momentum=True, power_t=0.5, random_state=None,\n",
      "       shuffle=True, solver='adam', tol=0.0001, validation_fraction=0.1,\n",
      "       verbose=False, warm_start=False)\n",
      "Best parameters calculated by a GridSearchCV(): C = 10 , γ = 0.001\n",
      "SVM classifier: \n",
      " SVC(C=10, cache_size=200, class_weight=None, coef0=0.0,\n",
      "  decision_function_shape='ovr', degree=3, gamma=0.001, kernel='rbf',\n",
      "  max_iter=-1, probability=False, random_state=None, shrinking=True,\n",
      "  tol=0.001, verbose=False)\n",
      "RM classifier: \n",
      " RandomForestClassifier(bootstrap=True, class_weight=None, criterion='gini',\n",
      "            max_depth=None, max_features='auto', max_leaf_nodes=None,\n",
      "            min_impurity_decrease=0.0, min_impurity_split=None,\n",
      "            min_samples_leaf=1, min_samples_split=2,\n",
      "            min_weight_fraction_leaf=0.0, n_estimators=1000, n_jobs=-1,\n",
      "            oob_score=False, random_state=None, verbose=0,\n",
      "            warm_start=False)\n"
     ]
    }
   ],
   "source": [
    "######\n",
    "# NN #\n",
    "######\n",
    "'''\n",
    "parameters = {'hidden_layer_sizes': [(16,), (64,), (128,), (256,), (512,), (1024,)]}\n",
    "nn_clf = GridSearchCV(MLPClassifier(activation='logistic', random_state=1), param_grid = parameters, n_jobs=-1)\n",
    "print(\"The best parameters are %s with a score of %0.2f\" % (nn_clf.best_params_, nn_clf.best_score_))\n",
    "'''\n",
    "nn_clf = MLPClassifier(activation='logistic', hidden_layer_sizes = (100,))\n",
    "print('NN classifier: \\n %s' % nn_clf)\n",
    "\n",
    "\n",
    "#######\n",
    "# SVM #\n",
    "#######\n",
    "'''\n",
    "%%time\n",
    "That block of code is commeted as the code was run only once to find \n",
    "the best parameters of C and γ for the SVM() classifier. \n",
    "\n",
    "The result:\n",
    "The best parameters are {'C': 10, 'gamma': 0.001} with a score of 0.97\n",
    "The computation time was 2h 13min 34s long and was run on a machine with 4 cores.\n",
    "\n",
    "# Other paramenters can be added and tried, but a bigger number of parameters \n",
    "# will take more time to perform the grid search.\n",
    "parameters = dict(C = [1, 5, 10, 50, 100, 1000], gamma = [1e-3, 1e-4])\n",
    "# n_jobs = -1 (use all machine cores)\n",
    "grid_clf = GridSearchCV(SVC(), param_grid = parameters, n_jobs = -1)\n",
    "grid_clf.fit(X_train, y_train)\n",
    "\n",
    "print(\"The best parameters are %s with a score of %0.2f\"\n",
    "      % (grid_clf.best_params_, grid_clf.best_score_))\n",
    "'''\n",
    "print ('Best parameters calculated by a GridSearchCV(): C = 10 , γ = 0.001')\n",
    "\n",
    "# Define the SVM classifier and pass C and gamma parameters\n",
    "svm_clf = SVC(C=10, gamma = 0.001)\n",
    "\n",
    "# Print the classifier to see all the default parameters used\n",
    "print('SVM classifier: \\n %s' % svm_clf)\n",
    "\n",
    "\n",
    "######\n",
    "# RF #\n",
    "######\n",
    "\n",
    "rf_clf = RandomForestClassifier(n_estimators=1000, n_jobs = -1)\n",
    "\n",
    "# Print the classifier to see all the default parameters used\n",
    "print('RM classifier: \\n %s' % rf_clf)"
   ]
  },
  {
   "cell_type": "markdown",
   "metadata": {},
   "source": [
    "<b>Train classifiers</b>"
   ]
  },
  {
   "cell_type": "code",
   "execution_count": 61,
   "metadata": {},
   "outputs": [
    {
     "name": "stdout",
     "output_type": "stream",
     "text": [
      "Wall time: 10min 4s\n"
     ]
    }
   ],
   "source": [
    "%%time\n",
    "\n",
    "# Train\n",
    "nn_clf.fit(X_train, y_train)\n",
    "svm_clf.fit(X_train, y_train)\n",
    "rf_clf.fit(X_train, y_train)"
   ]
  },
  {
   "cell_type": "markdown",
   "metadata": {},
   "source": [
    "<b>Save classifiers to a machine</b>"
   ]
  },
  {
   "cell_type": "code",
   "execution_count": 62,
   "metadata": {
    "scrolled": true
   },
   "outputs": [
    {
     "data": {
      "text/plain": [
       "['rf.pkl']"
      ]
     },
     "execution_count": 62,
     "metadata": {},
     "output_type": "execute_result"
    }
   ],
   "source": [
    "# Save classifiers\n",
    "joblib.dump(nn_clf, 'nn.pkl')\n",
    "joblib.dump(svm_clf, 'svm.pkl')\n",
    "joblib.dump(rf_clf, 'rf.pkl')"
   ]
  },
  {
   "cell_type": "markdown",
   "metadata": {},
   "source": [
    "<b>Load classifiers from a machine</b>"
   ]
  },
  {
   "cell_type": "code",
   "execution_count": 63,
   "metadata": {
    "collapsed": true
   },
   "outputs": [],
   "source": [
    "# Load classifiers\n",
    "nn_clf = joblib.load('nn.pkl')\n",
    "svm_clf = joblib.load('svm.pkl')\n",
    "rf_clf = joblib.load('rf.pkl')"
   ]
  },
  {
   "cell_type": "markdown",
   "metadata": {},
   "source": [
    "<b>Test classifiers<b>"
   ]
  },
  {
   "cell_type": "code",
   "execution_count": 64,
   "metadata": {
    "collapsed": true
   },
   "outputs": [],
   "source": [
    "# Test\n",
    "nn_predictions = nn_clf.predict(X_test)\n",
    "svm_predictions = svm_clf.predict(X_test)\n",
    "rf_predictions = rf_clf.predict(X_test)"
   ]
  },
  {
   "cell_type": "markdown",
   "metadata": {},
   "source": [
    "<b>Print results</b>"
   ]
  },
  {
   "cell_type": "code",
   "execution_count": 65,
   "metadata": {
    "scrolled": false
   },
   "outputs": [
    {
     "name": "stdout",
     "output_type": "stream",
     "text": [
      "A number of misclassified digits:\n",
      "NN - 510\n",
      "SVM - 368\n",
      "RM - 401\n",
      "NN\n"
     ]
    },
    {
     "data": {
      "image/png": "[encoded data removed]",
      "text/plain": [
       "<matplotlib.figure.Figure at 0x6d30dd8>"
      ]
     },
     "metadata": {},
     "output_type": "display_data"
    },
    {
     "name": "stdout",
     "output_type": "stream",
     "text": [
      "\n",
      "\n",
      "Confusion matrix: \n",
      " [[1289    0    1    1    3    2    9    1    6    0]\n",
      " [   0 1579   12    1    2    3    0    3    4    0]\n",
      " [   5    4 1297    8    9    2    4    5   11    3]\n",
      " [   1    2   16 1360    2   21    0    4   13    8]\n",
      " [   1    1    8    2 1305    2    8    5    1   29]\n",
      " [   5    1    6   20    4 1206   15    5   13    5]\n",
      " [   5    2    3    0    7    7 1369    0    4    0]\n",
      " [   2    1   12    3    6    3    0 1412    2   20]\n",
      " [   4    9    8   11    7   11    4    4 1324    8]\n",
      " [   3    3    4   11   20    8    1   13    7 1349]]\n",
      "\n",
      "Result: \n",
      "              precision    recall  f1-score   support\n",
      "\n",
      "        0.0       0.98      0.98      0.98      1312\n",
      "        1.0       0.99      0.98      0.99      1604\n",
      "        2.0       0.95      0.96      0.96      1348\n",
      "        3.0       0.96      0.95      0.96      1427\n",
      "        4.0       0.96      0.96      0.96      1362\n",
      "        5.0       0.95      0.94      0.95      1280\n",
      "        6.0       0.97      0.98      0.98      1397\n",
      "        7.0       0.97      0.97      0.97      1461\n",
      "        8.0       0.96      0.95      0.95      1390\n",
      "        9.0       0.95      0.95      0.95      1419\n",
      "\n",
      "avg / total       0.96      0.96      0.96     14000\n",
      "\n",
      "\n"
     ]
    },
    {
     "data": {
      "image/png": "[encoded data removed]",
      "text/plain": [
       "<matplotlib.figure.Figure at 0x132b24710>"
      ]
     },
     "metadata": {},
     "output_type": "display_data"
    },
    {
     "name": "stdout",
     "output_type": "stream",
     "text": [
      "SVM\n"
     ]
    },
    {
     "data": {
      "image/png": "[encoded data removed]",
      "text/plain": [
       "<matplotlib.figure.Figure at 0x10dac128>"
      ]
     },
     "metadata": {},
     "output_type": "display_data"
    },
    {
     "name": "stdout",
     "output_type": "stream",
     "text": [
      "\n",
      "Confusion matrix: \n",
      " [[1300    0    1    0    0    1    6    2    2    0]\n",
      " [   0 1587    8    0    1    0    0    7    0    1]\n",
      " [   3    3 1310    8    3    0    5    9    5    2]\n",
      " [   1    0   11 1381    1    8    0   10   10    5]\n",
      " [   2    2    5    1 1320    1    6    9    3   13]\n",
      " [   2    0    1   15    2 1229   10    5   13    3]\n",
      " [   3    0    2    0    3    7 1373    7    1    1]\n",
      " [   2    2    9    3    6    2    0 1427    0   10]\n",
      " [   2    5    4    8    2    4    3    1 1358    3]\n",
      " [   4    5    4    9   21    6    1   18    4 1347]]\n",
      "\n",
      "Result: \n",
      "              precision    recall  f1-score   support\n",
      "\n",
      "        0.0       0.99      0.99      0.99      1312\n",
      "        1.0       0.99      0.99      0.99      1604\n",
      "        2.0       0.97      0.97      0.97      1348\n",
      "        3.0       0.97      0.97      0.97      1427\n",
      "        4.0       0.97      0.97      0.97      1362\n",
      "        5.0       0.98      0.96      0.97      1280\n",
      "        6.0       0.98      0.98      0.98      1397\n",
      "        7.0       0.95      0.98      0.97      1461\n",
      "        8.0       0.97      0.98      0.97      1390\n",
      "        9.0       0.97      0.95      0.96      1419\n",
      "\n",
      "avg / total       0.97      0.97      0.97     14000\n",
      "\n",
      "\n",
      "RM\n"
     ]
    },
    {
     "data": {
      "image/png": "[encoded data removed]",
      "text/plain": [
       "<matplotlib.figure.Figure at 0x10d35198>"
      ]
     },
     "metadata": {},
     "output_type": "display_data"
    },
    {
     "name": "stdout",
     "output_type": "stream",
     "text": [
      "\n",
      "Confusion matrix: \n",
      " [[1304    0    0    0    0    2    3    0    3    0]\n",
      " [   0 1583    8    2    2    2    0    4    2    1]\n",
      " [   1    2 1311    6    6    0    5    8    8    1]\n",
      " [   1    0   14 1373    0   14    0    8   10    7]\n",
      " [   2    1    1    0 1319    0    7    4    4   24]\n",
      " [   3    0    2   10    0 1238   10    3    9    5]\n",
      " [   6    2    0    0    0    6 1381    0    2    0]\n",
      " [   1    3   18    1    8    0    0 1413    2   15]\n",
      " [   1    6    8   11    4    7    3    2 1332   16]\n",
      " [   9    3    4   23   16    4    1   11    3 1345]]\n",
      "\n",
      "Result: \n",
      "              precision    recall  f1-score   support\n",
      "\n",
      "        0.0       0.98      0.99      0.99      1312\n",
      "        1.0       0.99      0.99      0.99      1604\n",
      "        2.0       0.96      0.97      0.97      1348\n",
      "        3.0       0.96      0.96      0.96      1427\n",
      "        4.0       0.97      0.97      0.97      1362\n",
      "        5.0       0.97      0.97      0.97      1280\n",
      "        6.0       0.98      0.99      0.98      1397\n",
      "        7.0       0.97      0.97      0.97      1461\n",
      "        8.0       0.97      0.96      0.96      1390\n",
      "        9.0       0.95      0.95      0.95      1419\n",
      "\n",
      "avg / total       0.97      0.97      0.97     14000\n",
      "\n",
      "\n",
      "\n",
      "Accuracy results:\n",
      "NN accuracy: 0.963571428571\n",
      "SVM accuracy: 0.973714285714\n",
      "RF accuracy: 0.971357142857\n"
     ]
    }
   ],
   "source": [
    "class ClfModel:\n",
    "    def __init__(self, data, labels, miscl, predictions):\n",
    "        self.data = data\n",
    "        self.labels = labels\n",
    "        self.miscl = miscl\n",
    "        self.predictions = predictions\n",
    "\n",
    "    def show_miscl_5digits(self):\n",
    "        # Create a list of tuples, where each tuple represent - (image, image_label, predicted_label)\n",
    "        miscl_images_and_labels = random.sample(list(zip(self.data[self.miscl], self.labels[self.miscl], self.predictions[self.miscl])), 5)\n",
    "        # Plot 5 random misclassified digits\n",
    "        img = plt.figure(1, figsize=(7, 7), dpi=120)\n",
    "        for index, (image, label, miscl_label) in enumerate(miscl_images_and_labels):\n",
    "            plt.subplot(1, 5, index + 1)\n",
    "            plt.axis('off')\n",
    "            plt.imshow(image.reshape(28,28), cmap=plt.cm.gray_r, interpolation='nearest')\n",
    "            plt.title('%s predicted as %s' % (int(label), int(miscl_label)), fontsize = 7)\n",
    "        plt.show()\n",
    "\n",
    "    def miscl_digit_num(self):\n",
    "        to_list = list(self.miscl)\n",
    "        return len(to_list[0])\n",
    "\n",
    "    def print_clf_result(self):\n",
    "        print\n",
    "        print('Confusion matrix: \\n %s' % confusion_matrix(self.labels, self.predictions))\n",
    "        print\n",
    "        print('Result: \\n %s' % classification_report(self.labels, self.predictions))\n",
    "        print\n",
    "\n",
    "    def get_accuracy(self):\n",
    "        return accuracy_score(self.labels, self.predictions)\n",
    "\n",
    "# Getting misclassified results\n",
    "nn_miscl = np.where(y_test != nn_predictions)\n",
    "svm_miscl = np.where(y_test != svm_predictions)\n",
    "rf_miscl = np.where(y_test != rf_predictions)\n",
    "\n",
    "nn = ClfModel(X_test_v, y_test, nn_miscl, nn_predictions)\n",
    "svm = ClfModel(X_test_v, y_test, svm_miscl, svm_predictions)\n",
    "rf = ClfModel(X_test_v, y_test, rf_miscl, rf_predictions)\n",
    "\n",
    "\n",
    "print ('A NUMBER OF MISCLASSIFIED DIGITS:')\n",
    "print ('NN - %s' % nn.miscl_digit_num())\n",
    "print ('SVM - %s' % svm.miscl_digit_num())\n",
    "print ('RF - %s' % rf.miscl_digit_num())\n",
    "\n",
    "# NN\n",
    "print 'NN'\n",
    "# Plot 5 random misclassified digits\n",
    "nn.show_miscl_5digits()\n",
    "print\n",
    "# Print confusion matrix and classification report\n",
    "nn.print_clf_result()\n",
    "# Plot loss curve (NN only)\n",
    "fig, ax = plt.subplots()\n",
    "ax.plot(nn_clf.loss_curve_)\n",
    "plt.tight_layout()\n",
    "plt.title('Loss curve')\n",
    "plt.show()\n",
    "\n",
    "# SVM\n",
    "print 'SVM'\n",
    "svm.show_miscl_5digits()\n",
    "svm.print_clf_result()\n",
    "\n",
    "# RF\n",
    "print 'RF'\n",
    "rf.show_miscl_5digits()\n",
    "rf.print_clf_result()\n",
    "\n",
    "print\n",
    "print ('ACCURACY RESULTS:')\n",
    "print('NN accuracy: %s' % nn.get_accuracy())\n",
    "print('SVM accuracy: %s' % svm.get_accuracy())\n",
    "print('RF accuracy: %s' % rf.get_accuracy())"
   ]
  },
  {
   "cell_type": "markdown",
   "metadata": {},
   "source": [
    "# Manual Error Analysis \n",
    "\n",
    "Look at the misclassfied instances (which digits where not correctly classified)? \n",
    "Show these digits / \n",
    "show digits and the corresponding wrong clas label!!\n",
    "This will give some insight"
   ]
  },
  {
   "cell_type": "markdown",
   "metadata": {},
   "source": [
    "## How can we improve the results? \n",
    "- Different network architecture\n",
    "- Read some papers which done MNIST classificaiton  \n",
    "- Convolutional Neural Networks (Read about it, implement (Keras))\n"
   ]
  },
  {
   "cell_type": "markdown",
   "metadata": {},
   "source": [
    "## Compare Results "
   ]
  }
 ],
 "metadata": {
  "kernelspec": {
   "display_name": "Python 2",
   "language": "python",
   "name": "python2"
  },
  "language_info": {
   "codemirror_mode": {
    "name": "ipython",
    "version": 2
   },
   "file_extension": ".py",
   "mimetype": "text/x-python",
   "name": "python",
   "nbconvert_exporter": "python",
   "pygments_lexer": "ipython2",
   "version": "2.7.14"
  }
 },
 "nbformat": 4,
 "nbformat_minor": 2
}
